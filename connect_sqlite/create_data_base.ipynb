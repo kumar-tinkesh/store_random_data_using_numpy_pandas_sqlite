{
 "cells": [
  {
   "cell_type": "code",
   "execution_count": null,
   "metadata": {},
   "outputs": [],
   "source": [
    "import json\n",
    "import sqlite3\n",
    "\n",
    "conx = sqlite3.connect('usersdata.db')\n",
    "\n",
    "c = conx.cursor()\n",
    "\n",
    "c.execute('''\n",
    "            CREATE TABLE users\n",
    "            (id INTEGER PRIMARY KEY AUTOINCREMENT, username text, email text, password text)\n",
    "            ''')"
   ]
  },
  {
   "cell_type": "code",
   "execution_count": 27,
   "metadata": {},
   "outputs": [],
   "source": [
    "username = input(\"Enter your username : \")\n",
    "email = input(\"Enter your email : \")\n",
    "password = input(\"Enter your password : \")"
   ]
  },
  {
   "cell_type": "code",
   "execution_count": 13,
   "metadata": {},
   "outputs": [
    {
     "name": "stdout",
     "output_type": "stream",
     "text": [
      "abk@123\n",
      "abk@gmail.com\n",
      "abk123\n"
     ]
    }
   ],
   "source": [
    "print(username)\n",
    "print(email)\n",
    "print(password)"
   ]
  },
  {
   "cell_type": "code",
   "execution_count": null,
   "metadata": {},
   "outputs": [],
   "source": [
    "conx = sqlite3.connect('usersdata.db')\n",
    "\n",
    "c = conx.cursor()\n",
    "\n",
    "insert = \"INSERT INTO users (username,email,password) VALUES (?,?,?)\"\n",
    "c.execute(insert,(username,email,password))\n",
    "\n",
    "conx.commit()\n",
    "\n"
   ]
  },
  {
   "cell_type": "code",
   "execution_count": 4,
   "metadata": {},
   "outputs": [
    {
     "name": "stdout",
     "output_type": "stream",
     "text": [
      "[(1, 'tinku@123', 'abk@gmail.com', '12345'), (2, 'abk@123', 'abk@gmail.com', 'abk123'), (3, 'abc@123', 'abc@gmail.com', 'abc123'), (4, 'xyz@123', 'xyz@gmail.com', 'xyz123'), (5, 'pqr123', 'pqr@gmail.com', 'pqr123')]\n"
     ]
    }
   ],
   "source": [
    "import json\n",
    "\n",
    "conx = sqlite3.connect('usersdata.db')\n",
    "\n",
    "c = conx.cursor()\n",
    "\n",
    "sl = (\"SELECT * FROM users \")\n",
    "c.execute(sl)\n",
    "data = c.fetchall()\n",
    "\n",
    "\n",
    "# for i in data:\n",
    "#     print('username : ',username, 'email : ', email, 'password : ', password)\n",
    "\n",
    "\n",
    "print(data)\n",
    "# json_data = json.dumps(data,indent=2)\n",
    "# print(json_data)\n"
   ]
  },
  {
   "cell_type": "code",
   "execution_count": 7,
   "metadata": {},
   "outputs": [
    {
     "name": "stdout",
     "output_type": "stream",
     "text": [
      "[\n",
      "   {\n",
      "      \"user id\": 1,\n",
      "      \"username\": \"tinku@123\",\n",
      "      \"Email\": \"abk@gmail.com\",\n",
      "      \"password\": \"12345\"\n",
      "   },\n",
      "   {\n",
      "      \"user id\": 2,\n",
      "      \"username\": \"abk@123\",\n",
      "      \"Email\": \"abk@gmail.com\",\n",
      "      \"password\": \"abk123\"\n",
      "   },\n",
      "   {\n",
      "      \"user id\": 3,\n",
      "      \"username\": \"abc@123\",\n",
      "      \"Email\": \"abc@gmail.com\",\n",
      "      \"password\": \"abc123\"\n",
      "   },\n",
      "   {\n",
      "      \"user id\": 4,\n",
      "      \"username\": \"xyz@123\",\n",
      "      \"Email\": \"xyz@gmail.com\",\n",
      "      \"password\": \"xyz123\"\n",
      "   },\n",
      "   {\n",
      "      \"user id\": 5,\n",
      "      \"username\": \"pqr123\",\n",
      "      \"Email\": \"pqr@gmail.com\",\n",
      "      \"password\": \"pqr123\"\n",
      "   }\n",
      "]\n"
     ]
    }
   ],
   "source": [
    "import json\n",
    "conx = sqlite3.connect('usersdata.db')\n",
    "\n",
    "c = conx.cursor()\n",
    "\n",
    "sl = (\"SELECT * FROM users \")\n",
    "c.execute(sl)\n",
    "data = c.fetchall()\n",
    "\n",
    "list = []\n",
    "for row in data:\n",
    "    list.append({\n",
    "        'user id' : row[0],\n",
    "        'username' : row[1],\n",
    "        'Email' :  row[2],\n",
    "        'password' :  row[3]\n",
    "    })\n",
    "\n",
    "json_data = json.dumps(list,indent=3)\n",
    "print(json_data)\n",
    "c.close()"
   ]
  }
 ],
 "metadata": {
  "kernelspec": {
   "display_name": "base",
   "language": "python",
   "name": "python3"
  },
  "language_info": {
   "codemirror_mode": {
    "name": "ipython",
    "version": 3
   },
   "file_extension": ".py",
   "mimetype": "text/x-python",
   "name": "python",
   "nbconvert_exporter": "python",
   "pygments_lexer": "ipython3",
   "version": "3.11.5"
  }
 },
 "nbformat": 4,
 "nbformat_minor": 2
}
