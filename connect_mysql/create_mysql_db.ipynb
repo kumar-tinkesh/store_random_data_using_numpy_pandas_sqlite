{
 "cells": [
  {
   "cell_type": "code",
   "execution_count": 1,
   "metadata": {},
   "outputs": [],
   "source": [
    "import mysql.connector\n",
    "\n",
    "conx = mysql.connector.connect(\n",
    "    user = 'root',\n",
    "    host = 'localhost',\n",
    "    password = 'mysql@123root',\n",
    "    database = 'connection'\n",
    ")\n"
   ]
  },
  {
   "cell_type": "code",
   "execution_count": 2,
   "metadata": {},
   "outputs": [
    {
     "name": "stdout",
     "output_type": "stream",
     "text": [
      "your database is connected\n"
     ]
    }
   ],
   "source": [
    "if conx.is_connected():\n",
    "    print(\"your database is connected\")\n",
    "else:\n",
    "    print(\"oops. your database is not connected\")"
   ]
  },
  {
   "cell_type": "code",
   "execution_count": 3,
   "metadata": {},
   "outputs": [],
   "source": [
    "def mysql_db_connection():\n",
    "    return mysql.connector.connect(\n",
    "    user = 'root',\n",
    "    host = 'localhost',\n",
    "    password = 'mysql@123root',\n",
    "    database = 'connection'\n",
    "    )"
   ]
  },
  {
   "cell_type": "code",
   "execution_count": 4,
   "metadata": {},
   "outputs": [],
   "source": [
    "conx = mysql_db_connection()\n",
    "cur = conx.cursor"
   ]
  },
  {
   "cell_type": "code",
   "execution_count": 5,
   "metadata": {},
   "outputs": [
    {
     "name": "stdout",
     "output_type": "stream",
     "text": [
      "yes\n"
     ]
    }
   ],
   "source": [
    "if conx.is_connected():\n",
    "    print(\"yes\")\n",
    "else:\n",
    "    print(\"oops!\")"
   ]
  },
  {
   "cell_type": "code",
   "execution_count": null,
   "metadata": {},
   "outputs": [],
   "source": []
  }
 ],
 "metadata": {
  "kernelspec": {
   "display_name": "base",
   "language": "python",
   "name": "python3"
  },
  "language_info": {
   "codemirror_mode": {
    "name": "ipython",
    "version": 3
   },
   "file_extension": ".py",
   "mimetype": "text/x-python",
   "name": "python",
   "nbconvert_exporter": "python",
   "pygments_lexer": "ipython3",
   "version": "3.12.0"
  }
 },
 "nbformat": 4,
 "nbformat_minor": 2
}
