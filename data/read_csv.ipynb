{
 "cells": [
  {
   "cell_type": "code",
   "execution_count": null,
   "metadata": {},
   "outputs": [],
   "source": [
    "import csv\n",
    "\n",
    "file = 'titenic.csv'\n",
    "\n",
    "with open (file, 'r') as file:\n",
    "    read = csv.reader(file)\n",
    "\n",
    "    for data in read:\n",
    "        print(data)\n",
    "\n"
   ]
  },
  {
   "cell_type": "code",
   "execution_count": 17,
   "metadata": {},
   "outputs": [
    {
     "name": "stdout",
     "output_type": "stream",
     "text": [
      "        DATE  OPEN  HIGH  LOW  CLOSE  VOLUME\n",
      "0  11/1/2023   111   120  117    101       0\n",
      "1  11/2/2023   100   111  118    111       0\n",
      "2  11/3/2023   108   105  101    111       0\n",
      "3  11/4/2023   117   114  115    105       0\n",
      "4  11/5/2023   104   102  111    106       0\n"
     ]
    }
   ],
   "source": [
    "import pandas as pd\n",
    "import numpy as np\n",
    "\n",
    "file = 'file.csv'\n",
    "df = pd.read_csv('file.csv')\n",
    "print(df.head())"
   ]
  },
  {
   "cell_type": "code",
   "execution_count": 12,
   "metadata": {},
   "outputs": [],
   "source": [
    "import json\n",
    "import sqlite3\n",
    "\n",
    "conx = sqlite3.connect('titenic.db')\n",
    "\n",
    "c = conx.cursor()\n",
    "\n"
   ]
  },
  {
   "cell_type": "code",
   "execution_count": 13,
   "metadata": {},
   "outputs": [
    {
     "name": "stdout",
     "output_type": "stream",
     "text": [
      "215\n"
     ]
    }
   ],
   "source": [
    "df.to_sql('tabletitenic',conx,if_exists=\"replace\", index=False)\n",
    "\n",
    "print(data)"
   ]
  }
 ],
 "metadata": {
  "language_info": {
   "name": "python"
  }
 },
 "nbformat": 4,
 "nbformat_minor": 2
}
